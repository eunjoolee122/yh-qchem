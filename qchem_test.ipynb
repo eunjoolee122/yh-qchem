{
 "cells": [
  {
   "cell_type": "code",
   "execution_count": 35,
   "id": "db7d9c3d-f602-4e9d-b282-8736377bd876",
   "metadata": {},
   "outputs": [],
   "source": [
    "import pandas as pd\n",
    "\n",
    "from autoqchem.molecule import molecule\n",
    "from autoqchem.pbs_manager import pbs_manager\n",
    "from autoqchem.helper_classes import pbs_status\n",
    "from autoqchem.draw_utils import draw\n"
   ]
  },
  {
   "cell_type": "markdown",
   "id": "b62583dd-e774-4905-b338-9a5a326e996a",
   "metadata": {},
   "source": [
    "## pbs_manager\n",
    "### autoQchem job을 관리하는 manager. 누리온 서버에 접속하여 job 생성 및 upload, 삭제 등 job을 관리한다"
   ]
  },
  {
   "cell_type": "code",
   "execution_count": 2,
   "id": "b22c2bb2-d87d-4729-afa9-a781847902b7",
   "metadata": {},
   "outputs": [],
   "source": [
    "pm=pbs_manager(user='a1793a01', host='nurion.ksc.re.kr', sftp_host='nurion-dm.ksc.re.kr')"
   ]
  },
  {
   "cell_type": "code",
   "execution_count": 45,
   "id": "e1ffc1ab-e2c1-4843-8c09-bfeb09ad8aef",
   "metadata": {},
   "outputs": [
    {
     "name": "stdin",
     "output_type": "stream",
     "text": [
      "Password(OTP):  ········\n",
      "Password:  ········\n"
     ]
    }
   ],
   "source": [
    "## OTP가 필요. password = nuri2024@@\n",
    "pm.connect()"
   ]
  },
  {
   "cell_type": "code",
   "execution_count": 5,
   "id": "262d0d7e-588c-4277-a0cc-3512319acbfa",
   "metadata": {},
   "outputs": [],
   "source": [
    "## Set molecule information\n",
    "my_smiles=[\n",
    "    \"C(C1C(C(C(C(O1)O)O)O)O)O\",\n",
    "    \"c1ccc(F)cc1\",\n",
    "]"
   ]
  },
  {
   "cell_type": "code",
   "execution_count": 6,
   "id": "508d00a4-66df-4d04-980b-34a45eee8a97",
   "metadata": {},
   "outputs": [],
   "source": [
    "mols = []\n",
    "for smile in my_smiles:\n",
    "    mols.append(molecule(smile, num_conf=10))"
   ]
  },
  {
   "cell_type": "markdown",
   "id": "e0c23799-3230-4b58-b2f8-cf7478b2de4a",
   "metadata": {},
   "source": [
    "# Gaussian Job setup\n",
    "### Gaussian Job 생성 조건"
   ]
  },
  {
   "cell_type": "code",
   "execution_count": 7,
   "id": "c87cccd1-d415-401b-8583-57199fd904f6",
   "metadata": {},
   "outputs": [],
   "source": [
    "for mol in mols:\n",
    "    pm.create_jobs_for_molecule(mol, light_basis_set='6-31G**', solvent='Ethanol', wall_time='06:00:00')"
   ]
  },
  {
   "cell_type": "code",
   "execution_count": 36,
   "id": "1f10e282-efd9-4479-9eb8-72893f6c0d4c",
   "metadata": {},
   "outputs": [
    {
     "data": {
      "text/html": [
       "<div>\n",
       "<style scoped>\n",
       "    .dataframe tbody tr th:only-of-type {\n",
       "        vertical-align: middle;\n",
       "    }\n",
       "\n",
       "    .dataframe tbody tr th {\n",
       "        vertical-align: top;\n",
       "    }\n",
       "\n",
       "    .dataframe thead th {\n",
       "        text-align: right;\n",
       "    }\n",
       "</style>\n",
       "<table border=\"1\" class=\"dataframe\">\n",
       "  <thead>\n",
       "    <tr style=\"text-align: right;\">\n",
       "      <th>status</th>\n",
       "      <th>done</th>\n",
       "      <th>submitted</th>\n",
       "    </tr>\n",
       "    <tr>\n",
       "      <th>can</th>\n",
       "      <th></th>\n",
       "      <th></th>\n",
       "    </tr>\n",
       "  </thead>\n",
       "  <tbody>\n",
       "    <tr>\n",
       "      <th>C(C1C(C(C(C(O1)O)O)O)O)O</th>\n",
       "      <td>0</td>\n",
       "      <td>8</td>\n",
       "    </tr>\n",
       "    <tr>\n",
       "      <th>c1ccc(F)cc1</th>\n",
       "      <td>1</td>\n",
       "      <td>0</td>\n",
       "    </tr>\n",
       "  </tbody>\n",
       "</table>\n",
       "</div>"
      ],
      "text/plain": [
       "status                    done  submitted\n",
       "can                                      \n",
       "C(C1C(C(C(C(O1)O)O)O)O)O     0          8\n",
       "c1ccc(F)cc1                  1          0"
      ]
     },
     "execution_count": 36,
     "metadata": {},
     "output_type": "execute_result"
    }
   ],
   "source": [
    "pm.get_job_stats(split_by_can=True)"
   ]
  },
  {
   "cell_type": "code",
   "execution_count": 32,
   "id": "103661f5-404e-48de-ba72-f6de56262bc5",
   "metadata": {
    "editable": true,
    "slideshow": {
     "slide_type": ""
    },
    "tags": []
   },
   "outputs": [
    {
     "name": "stdin",
     "output_type": "stream",
     "text": [
      "Password(OTP):  ········\n",
      "Password:  ········\n"
     ]
    }
   ],
   "source": [
    "pm.connect_sftp()"
   ]
  },
  {
   "cell_type": "code",
   "execution_count": 11,
   "id": "bd45a6b1-1f87-4a37-8026-12d6b3c2c0c9",
   "metadata": {},
   "outputs": [],
   "source": [
    "## job status가 create 인 job을 run\n",
    "pm.submit_jobs()"
   ]
  },
  {
   "cell_type": "code",
   "execution_count": 46,
   "id": "2d1b6848-f1d2-4736-9ef9-e8dd9eadd192",
   "metadata": {},
   "outputs": [
    {
     "name": "stdout",
     "output_type": "stream",
     "text": [
      "uid=404162301(a1793a01) gid=4041623(pd1623) groups=4041623(pd1623),1000009(gauss)\n"
     ]
    },
    {
     "data": {
      "text/plain": [
       "<Result cmd='id a1793a01' exited=0>"
      ]
     },
     "execution_count": 46,
     "metadata": {},
     "output_type": "execute_result"
    }
   ],
   "source": [
    "pm.connection.run(f\"id {pm.user}\")"
   ]
  },
  {
   "cell_type": "code",
   "execution_count": 47,
   "id": "1ebe74eb-b544-41bc-82fc-7fd077ca642c",
   "metadata": {
    "editable": true,
    "slideshow": {
     "slide_type": ""
    },
    "tags": []
   },
   "outputs": [
    {
     "data": {
      "text/plain": [
       "<Result cmd='qstat -u a1793a01' exited=0>"
      ]
     },
     "execution_count": 47,
     "metadata": {},
     "output_type": "execute_result"
    }
   ],
   "source": [
    "out = pm.connection.run(f\"qstat -u {pm.user}\", pty=False, timeout=5)\n",
    "out"
   ]
  },
  {
   "cell_type": "code",
   "execution_count": 48,
   "id": "5a5cf183-a0a4-4561-9bba-8d55d06cfef5",
   "metadata": {
    "editable": true,
    "slideshow": {
     "slide_type": ""
    },
    "tags": []
   },
   "outputs": [
    {
     "name": "stdout",
     "output_type": "stream",
     "text": [
      "There are 0 running/pending jobs, 8 finished jobs.\n"
     ]
    }
   ],
   "source": [
    "pm.retrieve_jobs()"
   ]
  },
  {
   "cell_type": "code",
   "execution_count": 49,
   "id": "1d28a150-0314-49e1-b0d0-6902877be5d8",
   "metadata": {
    "editable": true,
    "slideshow": {
     "slide_type": ""
    },
    "tags": []
   },
   "outputs": [
    {
     "data": {
      "text/html": [
       "<div>\n",
       "<style scoped>\n",
       "    .dataframe tbody tr th:only-of-type {\n",
       "        vertical-align: middle;\n",
       "    }\n",
       "\n",
       "    .dataframe tbody tr th {\n",
       "        vertical-align: top;\n",
       "    }\n",
       "\n",
       "    .dataframe thead th {\n",
       "        text-align: right;\n",
       "    }\n",
       "</style>\n",
       "<table border=\"1\" class=\"dataframe\">\n",
       "  <thead>\n",
       "    <tr style=\"text-align: right;\">\n",
       "      <th>status</th>\n",
       "      <th>done</th>\n",
       "    </tr>\n",
       "    <tr>\n",
       "      <th>can</th>\n",
       "      <th></th>\n",
       "    </tr>\n",
       "  </thead>\n",
       "  <tbody>\n",
       "    <tr>\n",
       "      <th>C(C1C(C(C(C(O1)O)O)O)O)O</th>\n",
       "      <td>8</td>\n",
       "    </tr>\n",
       "    <tr>\n",
       "      <th>c1ccc(F)cc1</th>\n",
       "      <td>1</td>\n",
       "    </tr>\n",
       "  </tbody>\n",
       "</table>\n",
       "</div>"
      ],
      "text/plain": [
       "status                    done\n",
       "can                           \n",
       "C(C1C(C(C(C(O1)O)O)O)O)O     8\n",
       "c1ccc(F)cc1                  1"
      ]
     },
     "execution_count": 49,
     "metadata": {},
     "output_type": "execute_result"
    }
   ],
   "source": [
    "pm.get_job_stats(split_by_can=True)"
   ]
  },
  {
   "cell_type": "code",
   "execution_count": 50,
   "id": "92867103-b9cb-4a02-853a-93709d9a1a60",
   "metadata": {},
   "outputs": [],
   "source": [
    "pm.upload_done_molecules_to_db(tags=[\"yh_test\"])"
   ]
  },
  {
   "cell_type": "code",
   "execution_count": 3,
   "id": "491ad629-f221-45b9-b8e7-c82a304ac1b0",
   "metadata": {},
   "outputs": [
    {
     "data": {
      "text/plain": [
       "Database(MongoClient(host=['localhost:27017'], document_class=dict, tz_aware=False, connect=True), 'autoqchem')"
      ]
     },
     "execution_count": 3,
     "metadata": {},
     "output_type": "execute_result"
    }
   ],
   "source": [
    "from autoqchem.db_local_functions import db_connect\n",
    "\n",
    "db = db_connect()\n",
    "db"
   ]
  },
  {
   "cell_type": "code",
   "execution_count": 5,
   "id": "2d5f3396-baf0-4eed-8cd2-e7baa736a03a",
   "metadata": {},
   "outputs": [
    {
     "data": {
      "text/plain": [
       "['qchem_descriptors', 'log_files', 'molecules', 'tags']"
      ]
     },
     "execution_count": 5,
     "metadata": {},
     "output_type": "execute_result"
    }
   ],
   "source": [
    "db.list_collection_names()"
   ]
  },
  {
   "cell_type": "code",
   "execution_count": null,
   "id": "67ccc1df-c901-4b7b-b5ac-85092a919384",
   "metadata": {
    "editable": true,
    "slideshow": {
     "slide_type": ""
    },
    "tags": []
   },
   "outputs": [],
   "source": []
  }
 ],
 "metadata": {
  "kernelspec": {
   "display_name": "autoqchem",
   "language": "python",
   "name": "autoqchem"
  },
  "language_info": {
   "codemirror_mode": {
    "name": "ipython",
    "version": 3
   },
   "file_extension": ".py",
   "mimetype": "text/x-python",
   "name": "python",
   "nbconvert_exporter": "python",
   "pygments_lexer": "ipython3",
   "version": "3.8.19"
  }
 },
 "nbformat": 4,
 "nbformat_minor": 5
}
