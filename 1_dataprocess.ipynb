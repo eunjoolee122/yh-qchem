{
 "cells": [
  {
   "cell_type": "markdown",
   "id": "52a4bb04-360b-4305-9bdc-25c314e49887",
   "metadata": {
    "editable": true,
    "slideshow": {
     "slide_type": ""
    },
    "tags": []
   },
   "source": [
    "## Data processing\n",
    "EDBO  진행을 위한 데이터 전처리과정입니다. \n",
    "yh-qchem을 통해 계산된 결과를 Tag 별로 조회하여 데이터셋을 만들어 csv 파일로 저장하는 과정입니다. \n",
    "\n",
    "데이터셋 저장 조건\n",
    " - 'global' : 여러 conformer에 대해 bolztmann average와 Lowest Energy Conformer 값을 저장\n",
    " - 'min', 'max' : atom level descriptor.\n",
    " - 'transition' : 모든 transition을 반영"
   ]
  },
  {
   "cell_type": "code",
   "execution_count": 1,
   "id": "171a4825-a6fa-476f-84bb-3b38735aa4ab",
   "metadata": {},
   "outputs": [],
   "source": [
    "### 조회할 TAG명과 dataset column명에 붙이 prefix 와 output 파일명을 지정해주세요. \n",
    "from autoqchem.db_local_functions import *\n",
    "\n",
    "TAG = \"GFTE_subs\"\n",
    "PREFIX = \"substrate\"   ## prefix for column name : {prefix}_{colnames}\n",
    "out_file = './result/subs.csv'  ## 특정 경로 아래로 지정할 수도 있습니다.  ex: ./result/project_name/sample.csv"
   ]
  },
  {
   "cell_type": "code",
   "execution_count": 2,
   "id": "bb0cfa16-1317-4e41-926b-ea1860ecf82d",
   "metadata": {},
   "outputs": [
    {
     "data": {
      "text/plain": [
       "dict_keys(['global', 'min', 'max', 'transitions'])"
      ]
     },
     "execution_count": 2,
     "metadata": {},
     "output_type": "execute_result"
    }
   ],
   "source": [
    "data = descriptors(tags=[TAG], \n",
    "                   presets=['global', 'min_max', 'transitions'], \n",
    "                   conf_option='boltzmann', \n",
    "                   solvent='ALL', \n",
    "                   functional='ALL', \n",
    "                   basis_set='ALL', \n",
    "                   substructure=\"\", \n",
    "                   smiles=\"\")\n",
    "data.keys()"
   ]
  },
  {
   "cell_type": "code",
   "execution_count": 3,
   "id": "186ecd67-7af5-43d9-873e-9191db5fb264",
   "metadata": {},
   "outputs": [],
   "source": [
    "data['min'].drop(columns=['X', 'Y', 'Z'], inplace=True )\n",
    "data['max'].drop(columns=['X', 'Y', 'Z'], inplace=True )\n",
    "\n",
    "\n",
    "cols = data['global'].columns\n",
    "data['global'].columns = [PREFIX + '_' + col_name + '_boltz' for col_name in cols]\n",
    "cols = data['min'].columns\n",
    "data['min'].columns = [PREFIX + '_min_' + col_name for col_name in cols]\n",
    "cols = data['max'].columns\n",
    "data['max'].columns = [PREFIX + '_max_' + col_name for col_name in cols]\n",
    "cols = data['transitions'].columns\n",
    "data['transitions'].columns = [PREFIX + '_' + col_name for col_name in cols]"
   ]
  },
  {
   "cell_type": "markdown",
   "id": "30f464b2-53b3-4d74-8b8c-bc9d0a416e89",
   "metadata": {},
   "source": [
    "conf_options = ['boltzmann', 'max', 'min', 'mean', 'std', 'any']\n",
    "\n",
    "conf_options_long = ['Boltzman Average', 'Lowest Energy Conformer', 'Highest Energy Conformer', 'Arithmetic Average',\n",
    "                     'Standard Deviation', 'Random']\n"
   ]
  },
  {
   "cell_type": "code",
   "execution_count": 4,
   "id": "14667d58-bfe6-4454-8348-a2700f6a66ed",
   "metadata": {},
   "outputs": [],
   "source": [
    "### solvent 의 경우 생략 \n",
    "conf_dict = {'max' : 'minE', 'min' : 'maxE', 'mean' : 'mean', 'std' : 'std'}\n",
    "conf = 'max'\n",
    "data_conf = {}\n",
    "for conf in conf_dict.keys():\n",
    "    data_conf[conf] = descriptors(tags=[TAG], \n",
    "                   presets=['global'], \n",
    "                   conf_option=conf, \n",
    "                   solvent='ALL', \n",
    "                   functional='ALL', \n",
    "                   basis_set='ALL', \n",
    "                   substructure=\"\", \n",
    "                   smiles=\"\")\n",
    "    cols = data_conf[conf]['global'].columns\n",
    "    data_conf[conf]['global'].columns = [PREFIX + '_' + col_name + '_' + conf_dict[conf] for col_name in cols]"
   ]
  },
  {
   "cell_type": "code",
   "execution_count": 5,
   "id": "c72ca8e1-eda1-41c6-a206-96ce20210954",
   "metadata": {},
   "outputs": [],
   "source": [
    "data_merge = pd.concat([data['global'], data['min'], data['max'],data['transitions'], \n",
    "                        data_conf['max']['global'],   # solvent 의 경우 comment 처리 \n",
    "                        data_conf['min']['global'],   # solvent 의 경우 comment 처리 \n",
    "                        data_conf['mean']['global'],  # solvent 의 경우 comment 처리 \n",
    "                        data_conf['std']['global']   # solvent 의 경우 comment 처리 \n",
    "                       ], axis=1)"
   ]
  },
  {
   "cell_type": "code",
   "execution_count": 6,
   "id": "4c89cb05-e11a-483f-aadb-a4b1fa3372d0",
   "metadata": {},
   "outputs": [
    {
     "data": {
      "text/html": [
       "<div>\n",
       "<style scoped>\n",
       "    .dataframe tbody tr th:only-of-type {\n",
       "        vertical-align: middle;\n",
       "    }\n",
       "\n",
       "    .dataframe tbody tr th {\n",
       "        vertical-align: top;\n",
       "    }\n",
       "\n",
       "    .dataframe thead th {\n",
       "        text-align: right;\n",
       "    }\n",
       "</style>\n",
       "<table border=\"1\" class=\"dataframe\">\n",
       "  <thead>\n",
       "    <tr style=\"text-align: right;\">\n",
       "      <th></th>\n",
       "      <th>substrate_E_boltz</th>\n",
       "      <th>substrate_ES_root_dipole_boltz</th>\n",
       "      <th>substrate_ES_root_electronic_spatial_extent_boltz</th>\n",
       "      <th>substrate_ES_root_molar_volume_boltz</th>\n",
       "      <th>substrate_E_scf_boltz</th>\n",
       "      <th>substrate_E_thermal_correction_boltz</th>\n",
       "      <th>substrate_E_zpe_boltz</th>\n",
       "      <th>substrate_G_boltz</th>\n",
       "      <th>substrate_G_thermal_correction_boltz</th>\n",
       "      <th>substrate_H_boltz</th>\n",
       "      <th>...</th>\n",
       "      <th>substrate_electronegativity_std</th>\n",
       "      <th>substrate_electronic_spatial_extent_std</th>\n",
       "      <th>substrate_hardness_std</th>\n",
       "      <th>substrate_homo_energy_std</th>\n",
       "      <th>substrate_lumo_energy_std</th>\n",
       "      <th>substrate_molar_mass_std</th>\n",
       "      <th>substrate_molar_volume_std</th>\n",
       "      <th>substrate_multiplicity_std</th>\n",
       "      <th>substrate_number_of_atoms_std</th>\n",
       "      <th>substrate_zero_point_correction_std</th>\n",
       "    </tr>\n",
       "    <tr>\n",
       "      <th>can</th>\n",
       "      <th></th>\n",
       "      <th></th>\n",
       "      <th></th>\n",
       "      <th></th>\n",
       "      <th></th>\n",
       "      <th></th>\n",
       "      <th></th>\n",
       "      <th></th>\n",
       "      <th></th>\n",
       "      <th></th>\n",
       "      <th></th>\n",
       "      <th></th>\n",
       "      <th></th>\n",
       "      <th></th>\n",
       "      <th></th>\n",
       "      <th></th>\n",
       "      <th></th>\n",
       "      <th></th>\n",
       "      <th></th>\n",
       "      <th></th>\n",
       "      <th></th>\n",
       "    </tr>\n",
       "  </thead>\n",
       "  <tbody>\n",
       "    <tr>\n",
       "      <th>FC(C1=COCCN1CC2=C(C=CC=C3)C3=CC=C2)(F)F</th>\n",
       "      <td>-1046.26188</td>\n",
       "      <td>10.307235</td>\n",
       "      <td>5920.698827</td>\n",
       "      <td>2139.663989</td>\n",
       "      <td>-1046.536332</td>\n",
       "      <td>0.293724</td>\n",
       "      <td>-1046.278409</td>\n",
       "      <td>-1046.32372</td>\n",
       "      <td>0.231884</td>\n",
       "      <td>-1046.260936</td>\n",
       "      <td>...</td>\n",
       "      <td>0.004722</td>\n",
       "      <td>577.171644</td>\n",
       "      <td>0.002292</td>\n",
       "      <td>0.0068</td>\n",
       "      <td>0.002979</td>\n",
       "      <td>0.0</td>\n",
       "      <td>310.753389</td>\n",
       "      <td>0.0</td>\n",
       "      <td>0.0</td>\n",
       "      <td>0.00039</td>\n",
       "    </tr>\n",
       "  </tbody>\n",
       "</table>\n",
       "<p>1 rows × 182 columns</p>\n",
       "</div>"
      ],
      "text/plain": [
       "                                         substrate_E_boltz  \\\n",
       "can                                                          \n",
       "FC(C1=COCCN1CC2=C(C=CC=C3)C3=CC=C2)(F)F        -1046.26188   \n",
       "\n",
       "                                         substrate_ES_root_dipole_boltz  \\\n",
       "can                                                                       \n",
       "FC(C1=COCCN1CC2=C(C=CC=C3)C3=CC=C2)(F)F                       10.307235   \n",
       "\n",
       "                                         substrate_ES_root_electronic_spatial_extent_boltz  \\\n",
       "can                                                                                          \n",
       "FC(C1=COCCN1CC2=C(C=CC=C3)C3=CC=C2)(F)F                                        5920.698827   \n",
       "\n",
       "                                         substrate_ES_root_molar_volume_boltz  \\\n",
       "can                                                                             \n",
       "FC(C1=COCCN1CC2=C(C=CC=C3)C3=CC=C2)(F)F                           2139.663989   \n",
       "\n",
       "                                         substrate_E_scf_boltz  \\\n",
       "can                                                              \n",
       "FC(C1=COCCN1CC2=C(C=CC=C3)C3=CC=C2)(F)F           -1046.536332   \n",
       "\n",
       "                                         substrate_E_thermal_correction_boltz  \\\n",
       "can                                                                             \n",
       "FC(C1=COCCN1CC2=C(C=CC=C3)C3=CC=C2)(F)F                              0.293724   \n",
       "\n",
       "                                         substrate_E_zpe_boltz  \\\n",
       "can                                                              \n",
       "FC(C1=COCCN1CC2=C(C=CC=C3)C3=CC=C2)(F)F           -1046.278409   \n",
       "\n",
       "                                         substrate_G_boltz  \\\n",
       "can                                                          \n",
       "FC(C1=COCCN1CC2=C(C=CC=C3)C3=CC=C2)(F)F        -1046.32372   \n",
       "\n",
       "                                         substrate_G_thermal_correction_boltz  \\\n",
       "can                                                                             \n",
       "FC(C1=COCCN1CC2=C(C=CC=C3)C3=CC=C2)(F)F                              0.231884   \n",
       "\n",
       "                                         substrate_H_boltz  ...  \\\n",
       "can                                                         ...   \n",
       "FC(C1=COCCN1CC2=C(C=CC=C3)C3=CC=C2)(F)F       -1046.260936  ...   \n",
       "\n",
       "                                         substrate_electronegativity_std  \\\n",
       "can                                                                        \n",
       "FC(C1=COCCN1CC2=C(C=CC=C3)C3=CC=C2)(F)F                         0.004722   \n",
       "\n",
       "                                         substrate_electronic_spatial_extent_std  \\\n",
       "can                                                                                \n",
       "FC(C1=COCCN1CC2=C(C=CC=C3)C3=CC=C2)(F)F                               577.171644   \n",
       "\n",
       "                                         substrate_hardness_std  \\\n",
       "can                                                               \n",
       "FC(C1=COCCN1CC2=C(C=CC=C3)C3=CC=C2)(F)F                0.002292   \n",
       "\n",
       "                                         substrate_homo_energy_std  \\\n",
       "can                                                                  \n",
       "FC(C1=COCCN1CC2=C(C=CC=C3)C3=CC=C2)(F)F                     0.0068   \n",
       "\n",
       "                                         substrate_lumo_energy_std  \\\n",
       "can                                                                  \n",
       "FC(C1=COCCN1CC2=C(C=CC=C3)C3=CC=C2)(F)F                   0.002979   \n",
       "\n",
       "                                         substrate_molar_mass_std  \\\n",
       "can                                                                 \n",
       "FC(C1=COCCN1CC2=C(C=CC=C3)C3=CC=C2)(F)F                       0.0   \n",
       "\n",
       "                                         substrate_molar_volume_std  \\\n",
       "can                                                                   \n",
       "FC(C1=COCCN1CC2=C(C=CC=C3)C3=CC=C2)(F)F                  310.753389   \n",
       "\n",
       "                                         substrate_multiplicity_std  \\\n",
       "can                                                                   \n",
       "FC(C1=COCCN1CC2=C(C=CC=C3)C3=CC=C2)(F)F                         0.0   \n",
       "\n",
       "                                         substrate_number_of_atoms_std  \\\n",
       "can                                                                      \n",
       "FC(C1=COCCN1CC2=C(C=CC=C3)C3=CC=C2)(F)F                            0.0   \n",
       "\n",
       "                                         substrate_zero_point_correction_std  \n",
       "can                                                                           \n",
       "FC(C1=COCCN1CC2=C(C=CC=C3)C3=CC=C2)(F)F                              0.00039  \n",
       "\n",
       "[1 rows x 182 columns]"
      ]
     },
     "execution_count": 6,
     "metadata": {},
     "output_type": "execute_result"
    }
   ],
   "source": [
    "data_merge"
   ]
  },
  {
   "cell_type": "code",
   "execution_count": 7,
   "id": "839f2f9c-1e4c-46bf-b721-b6bdd61d9163",
   "metadata": {},
   "outputs": [],
   "source": [
    "data_merge.to_csv(out_file)"
   ]
  },
  {
   "cell_type": "markdown",
   "id": "6b88a213-e1e1-4cff-8924-2af72fc36b05",
   "metadata": {},
   "source": [
    "### 모든 cell을 동작시키고 나면 out_file 경로에 output 파일명이 생깁니다. \n",
    "### 이 과정을 ligand, solvent 등 모든 물질에 대해 진행 후 1_EDBO_process.ipynb을 실행시킵니다"
   ]
  },
  {
   "cell_type": "code",
   "execution_count": null,
   "id": "516aae23-eab2-451b-8fd9-7f568f7fa80f",
   "metadata": {},
   "outputs": [],
   "source": []
  }
 ],
 "metadata": {
  "kernelspec": {
   "display_name": "yhqchem",
   "language": "python",
   "name": "yhqchem"
  },
  "language_info": {
   "codemirror_mode": {
    "name": "ipython",
    "version": 3
   },
   "file_extension": ".py",
   "mimetype": "text/x-python",
   "name": "python",
   "nbconvert_exporter": "python",
   "pygments_lexer": "ipython3",
   "version": "3.8.20"
  },
  "vscode": {
   "interpreter": {
    "hash": "f6b50c482b94d49566f339c9bbaa80fe4f4c53d65f91d29ce8fa084769027490"
   }
  }
 },
 "nbformat": 4,
 "nbformat_minor": 5
}
