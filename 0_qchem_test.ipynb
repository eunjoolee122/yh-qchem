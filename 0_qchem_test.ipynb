{
 "cells": [
  {
   "cell_type": "code",
   "execution_count": 1,
   "id": "db7d9c3d-f602-4e9d-b282-8736377bd876",
   "metadata": {
    "editable": true,
    "slideshow": {
     "slide_type": ""
    },
    "tags": []
   },
   "outputs": [],
   "source": [
    "import pandas as pd\n",
    "\n",
    "from autoqchem.molecule import molecule\n",
    "from autoqchem.pbs_manager import pbs_manager\n",
    "from autoqchem.helper_classes import pbs_status\n",
    "from autoqchem.draw_utils import draw\n"
   ]
  },
  {
   "cell_type": "markdown",
   "id": "b62583dd-e774-4905-b338-9a5a326e996a",
   "metadata": {},
   "source": [
    "## pbs_manager\n",
    "### autoQchem job을 관리하는 manager. 누리온 서버에 접속하여 job 생성 및 upload, 삭제 등 job을 관리한다"
   ]
  },
  {
   "cell_type": "code",
   "execution_count": 2,
   "id": "b22c2bb2-d87d-4729-afa9-a781847902b7",
   "metadata": {},
   "outputs": [],
   "source": [
    "### job_file은 pbs_manager.pkl의 prefix로 사용합니다. \n",
    "### project 혹은 사용자별로 job 관리가 필요하다면 job_file을 입력해주세요. \n",
    "### job_file 이 정의되어 있지 않으면 pbs_manager.pkl을 default로 사용합니다. \n",
    "\n",
    "pm=pbs_manager(user='q632a02', \n",
    "               host='nurion.ksc.re.kr', \n",
    "               sftp_host='nurion-dm.ksc.re.kr', \n",
    "               workdir='/bo/workspace/nurion',\n",
    "              #job_file='q632a02'\n",
    "              ) "
   ]
  },
  {
   "cell_type": "code",
   "execution_count": 14,
   "id": "e1ffc1ab-e2c1-4843-8c09-bfeb09ad8aef",
   "metadata": {},
   "outputs": [],
   "source": [
    "pm.connect()\n",
    "## OTP가 필요. password = PDL4230+-"
   ]
  },
  {
   "cell_type": "code",
   "execution_count": 3,
   "id": "262d0d7e-588c-4277-a0cc-3512319acbfa",
   "metadata": {},
   "outputs": [],
   "source": [
    "### Set molecule information\n",
    "### 여러 개의 molecule을 , 로 연결\n",
    "\n",
    "my_smiles=[\n",
    "    \"FC(C1=COCCN1CC2=C(C=CC=C3)C3=CC=C2)(F)F\"    \n",
    "]"
   ]
  },
  {
   "cell_type": "code",
   "execution_count": 4,
   "id": "508d00a4-66df-4d04-980b-34a45eee8a97",
   "metadata": {
    "editable": true,
    "scrolled": true,
    "slideshow": {
     "slide_type": ""
    },
    "tags": []
   },
   "outputs": [],
   "source": [
    "mols = []\n",
    "for smile in my_smiles:\n",
    "    mols.append(molecule(smile, num_conf=5))"
   ]
  },
  {
   "cell_type": "markdown",
   "id": "e0c23799-3230-4b58-b2f8-cf7478b2de4a",
   "metadata": {
    "jp-MarkdownHeadingCollapsed": true
   },
   "source": [
    "# Gaussian Job setup\n",
    "### Gaussian Job 생성 조건"
   ]
  },
  {
   "cell_type": "code",
   "execution_count": 5,
   "id": "c87cccd1-d415-401b-8583-57199fd904f6",
   "metadata": {},
   "outputs": [],
   "source": [
    "### solvent list : https://gaussian.com/scrf/?tabid=7. 테이블에서 실제 실험 사용할 조건을 선택 기재\n",
    "\n",
    "for mol in mols:\n",
    "    pm.create_jobs_for_molecule(mol, light_basis_set='6-31G', solvent='None', wall_time='06:00:00')"
   ]
  },
  {
   "cell_type": "code",
   "execution_count": 3,
   "id": "1f10e282-efd9-4479-9eb8-72893f6c0d4c",
   "metadata": {
    "scrolled": true
   },
   "outputs": [
    {
     "data": {
      "text/html": [
       "<div>\n",
       "<style scoped>\n",
       "    .dataframe tbody tr th:only-of-type {\n",
       "        vertical-align: middle;\n",
       "    }\n",
       "\n",
       "    .dataframe tbody tr th {\n",
       "        vertical-align: top;\n",
       "    }\n",
       "\n",
       "    .dataframe thead th {\n",
       "        text-align: right;\n",
       "    }\n",
       "</style>\n",
       "<table border=\"1\" class=\"dataframe\">\n",
       "  <thead>\n",
       "    <tr style=\"text-align: right;\">\n",
       "      <th>status</th>\n",
       "      <th>uploaded</th>\n",
       "    </tr>\n",
       "    <tr>\n",
       "      <th>can</th>\n",
       "      <th></th>\n",
       "    </tr>\n",
       "  </thead>\n",
       "  <tbody>\n",
       "    <tr>\n",
       "      <th>FC(C1=COCCN1CC2=C(C=CC=C3)C3=CC=C2)(F)F</th>\n",
       "      <td>4</td>\n",
       "    </tr>\n",
       "  </tbody>\n",
       "</table>\n",
       "</div>"
      ],
      "text/plain": [
       "status                                   uploaded\n",
       "can                                              \n",
       "FC(C1=COCCN1CC2=C(C=CC=C3)C3=CC=C2)(F)F         4"
      ]
     },
     "execution_count": 3,
     "metadata": {},
     "output_type": "execute_result"
    }
   ],
   "source": [
    "pm.get_job_stats(split_by_can=True)"
   ]
  },
  {
   "cell_type": "markdown",
   "id": "57703ac1-c73e-468b-8780-acaa6c7587f9",
   "metadata": {},
   "source": [
    "## Job 실행\n",
    "job status가 create 인 job을 실행시키는 작업으로 nurion 서버에 queue가 걸리게 됩니다.\\\n",
    "실제 job을 실행시킬 때 실행하세요.\n",
    "\n",
    "Job 실행을 위해서는 job file이 넘어갈 수 있도록 pm.connect_sftp() 실행이 필요합니다"
   ]
  },
  {
   "cell_type": "code",
   "execution_count": 7,
   "id": "4909e7eb-9aaf-4b75-b5dc-90e0b46043bd",
   "metadata": {},
   "outputs": [
    {
     "name": "stdin",
     "output_type": "stream",
     "text": [
      "Password(OTP):  ········\n",
      "Password:  ········\n"
     ]
    }
   ],
   "source": [
    "pm.connect_sftp()\n",
    "\n",
    "## OTP 연결 필요"
   ]
  },
  {
   "cell_type": "code",
   "execution_count": 8,
   "id": "bd45a6b1-1f87-4a37-8026-12d6b3c2c0c9",
   "metadata": {},
   "outputs": [
    {
     "name": "stdin",
     "output_type": "stream",
     "text": [
      "Password(OTP):  ········\n",
      "Password:  ········\n"
     ]
    }
   ],
   "source": [
    "### job을 nurion에 제출. 제출할 때만 실행시키세요. \n",
    "\n",
    "pm.submit_jobs()"
   ]
  },
  {
   "cell_type": "markdown",
   "id": "eb5b4f0b-8e4b-4232-9fec-40e336f928b2",
   "metadata": {},
   "source": [
    "# Job 상태 조회\n",
    "서버에 현재 실행 중이거나 대기 중인 작업을 조회하는 기능입니다. \\\n",
    "job 목록에서 \"S\"가 status를 의미하며 아래와 같이 상태를 표기합니다 \\\n",
    "Q : Queue 대기 중 \\\n",
    "R : Run 실행 중"
   ]
  },
  {
   "cell_type": "code",
   "execution_count": 11,
   "id": "5a5cf183-a0a4-4561-9bba-8d55d06cfef5",
   "metadata": {
    "editable": true,
    "slideshow": {
     "slide_type": ""
    },
    "tags": []
   },
   "outputs": [
    {
     "name": "stdout",
     "output_type": "stream",
     "text": [
      "There are 0 running/pending jobs, 10 finished jobs.\n"
     ]
    }
   ],
   "source": [
    "pm.retrieve_jobs()  "
   ]
  },
  {
   "cell_type": "code",
   "execution_count": 12,
   "id": "1d28a150-0314-49e1-b0d0-6902877be5d8",
   "metadata": {
    "editable": true,
    "slideshow": {
     "slide_type": ""
    },
    "tags": []
   },
   "outputs": [
    {
     "data": {
      "text/html": [
       "<div>\n",
       "<style scoped>\n",
       "    .dataframe tbody tr th:only-of-type {\n",
       "        vertical-align: middle;\n",
       "    }\n",
       "\n",
       "    .dataframe tbody tr th {\n",
       "        vertical-align: top;\n",
       "    }\n",
       "\n",
       "    .dataframe thead th {\n",
       "        text-align: right;\n",
       "    }\n",
       "</style>\n",
       "<table border=\"1\" class=\"dataframe\">\n",
       "  <thead>\n",
       "    <tr style=\"text-align: right;\">\n",
       "      <th>status</th>\n",
       "      <th>done</th>\n",
       "    </tr>\n",
       "    <tr>\n",
       "      <th>can</th>\n",
       "      <th></th>\n",
       "    </tr>\n",
       "  </thead>\n",
       "  <tbody>\n",
       "    <tr>\n",
       "      <th>FC(C1=COCCN1CC2=C(C=CC=C3)C3=CC=C2)(F)F</th>\n",
       "      <td>10</td>\n",
       "    </tr>\n",
       "  </tbody>\n",
       "</table>\n",
       "</div>"
      ],
      "text/plain": [
       "status                                   done\n",
       "can                                          \n",
       "FC(C1=COCCN1CC2=C(C=CC=C3)C3=CC=C2)(F)F    10"
      ]
     },
     "execution_count": 12,
     "metadata": {},
     "output_type": "execute_result"
    }
   ],
   "source": [
    "pm.get_job_stats(split_by_can=True)"
   ]
  },
  {
   "cell_type": "markdown",
   "id": "91b97f9c-1ecb-4153-8948-536b7bb6b34e",
   "metadata": {},
   "source": [
    "## 결과 DB insert\n",
    "위의 job이 모두 끝나면 계산 결과를 DB에 넣는 기능입니다. \\\n",
    "현재 노트북에 설치된 mongodb에 넣게 되며 tag를 지정하여 넣으면 추후 해당 tag set을 조회하는데 유용합니다."
   ]
  },
  {
   "cell_type": "code",
   "execution_count": 13,
   "id": "92867103-b9cb-4a02-853a-93709d9a1a60",
   "metadata": {},
   "outputs": [
    {
     "name": "stdout",
     "output_type": "stream",
     "text": [
      "('1bc82e096ff1eeb6ff167e3f7b29e629', '5fb5fc7b21a4b318ed62c982985cf869', 'f041a9cc3bc15393f7c15c33fbc4c79b', '90bf1799623110f6216a7a5d06df9af5', 'bd92df0847207211c94accfd9b225666', 'e4c8bb344261a5ea1da8a2079d1b1fd3', 'ca89caa56869abd1b0156fa2ecf7a2ff', '67ab5c30113082258c72d0fa0443a463', '81f86574620386bf4637e934158c814d', 'cf63f2b48afb3485e1f4469f5773aaf5')\n",
      "True\n",
      "4\n"
     ]
    }
   ],
   "source": [
    "### JOB 이 끝난 것을 확인 후 TAG 명을 지정 후 upload. \n",
    "pm.upload_done_molecules_to_db(tags=[\"GFTE_subs\"])"
   ]
  },
  {
   "cell_type": "code",
   "execution_count": null,
   "id": "b2eb954b-91e5-4b7b-aeb7-a586289da62f",
   "metadata": {
    "editable": true,
    "slideshow": {
     "slide_type": ""
    },
    "tags": []
   },
   "outputs": [],
   "source": []
  }
 ],
 "metadata": {
  "kernelspec": {
   "display_name": "yhqchem",
   "language": "python",
   "name": "yhqchem"
  },
  "language_info": {
   "codemirror_mode": {
    "name": "ipython",
    "version": 3
   },
   "file_extension": ".py",
   "mimetype": "text/x-python",
   "name": "python",
   "nbconvert_exporter": "python",
   "pygments_lexer": "ipython3",
   "version": "3.8.20"
  }
 },
 "nbformat": 4,
 "nbformat_minor": 5
}
