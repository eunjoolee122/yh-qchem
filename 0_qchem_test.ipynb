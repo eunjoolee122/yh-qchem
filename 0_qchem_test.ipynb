{
 "cells": [
  {
   "cell_type": "code",
   "execution_count": 1,
   "id": "db7d9c3d-f602-4e9d-b282-8736377bd876",
   "metadata": {},
   "outputs": [],
   "source": [
    "import pandas as pd\n",
    "\n",
    "from autoqchem.molecule import molecule\n",
    "from autoqchem.pbs_manager import pbs_manager\n",
    "from autoqchem.helper_classes import pbs_status\n",
    "from autoqchem.draw_utils import draw\n"
   ]
  },
  {
   "cell_type": "markdown",
   "id": "b62583dd-e774-4905-b338-9a5a326e996a",
   "metadata": {},
   "source": [
    "## pbs_manager\n",
    "### autoQchem job을 관리하는 manager. 누리온 서버에 접속하여 job 생성 및 upload, 삭제 등 job을 관리한다"
   ]
  },
  {
   "cell_type": "code",
   "execution_count": 2,
   "id": "b22c2bb2-d87d-4729-afa9-a781847902b7",
   "metadata": {},
   "outputs": [],
   "source": [
    "pm=pbs_manager(user='a1793a01', host='nurion.ksc.re.kr', sftp_host='nurion-dm.ksc.re.kr', workdir='/bo/workspace/nurion')"
   ]
  },
  {
   "cell_type": "code",
   "execution_count": 3,
   "id": "e1ffc1ab-e2c1-4843-8c09-bfeb09ad8aef",
   "metadata": {
    "collapsed": true,
    "jupyter": {
     "outputs_hidden": true
    }
   },
   "outputs": [
    {
     "name": "stdin",
     "output_type": "stream",
     "text": [
      "Password(OTP):  ········\n"
     ]
    },
    {
     "ename": "AuthenticationException",
     "evalue": "Authentication failed.",
     "output_type": "error",
     "traceback": [
      "\u001b[1;31m---------------------------------------------------------------------------\u001b[0m",
      "\u001b[1;31mSSHException\u001b[0m                              Traceback (most recent call last)",
      "File \u001b[1;32mD:\\bo\\workspace\\yh-qchem\\autoqchem\\helper_functions.py:90\u001b[0m, in \u001b[0;36mssh_connect_otp\u001b[1;34m(host, user, port)\u001b[0m\n\u001b[0;32m     89\u001b[0m \u001b[38;5;28;01mtry\u001b[39;00m:\n\u001b[1;32m---> 90\u001b[0m     \u001b[43mclient\u001b[49m\u001b[38;5;241;43m.\u001b[39;49m\u001b[43mconnect\u001b[49m\u001b[43m(\u001b[49m\u001b[43mhost\u001b[49m\u001b[43m,\u001b[49m\u001b[43m \u001b[49m\u001b[43mport\u001b[49m\u001b[43m,\u001b[49m\u001b[43m \u001b[49m\u001b[43musername\u001b[49m\u001b[38;5;241;43m=\u001b[39;49m\u001b[43muser\u001b[49m\u001b[43m,\u001b[49m\u001b[43m \u001b[49m\u001b[43mpkey\u001b[49m\u001b[38;5;241;43m=\u001b[39;49m\u001b[38;5;28;43;01mNone\u001b[39;49;00m\u001b[43m)\u001b[49m\n\u001b[0;32m     91\u001b[0m \u001b[38;5;28;01mexcept\u001b[39;00m paramiko\u001b[38;5;241m.\u001b[39mssh_exception\u001b[38;5;241m.\u001b[39mSSHException \u001b[38;5;28;01mas\u001b[39;00m e:\n",
      "File \u001b[1;32m~\\.conda\\envs\\yhqchem\\lib\\site-packages\\paramiko\\client.py:485\u001b[0m, in \u001b[0;36mSSHClient.connect\u001b[1;34m(self, hostname, port, username, password, pkey, key_filename, timeout, allow_agent, look_for_keys, compress, sock, gss_auth, gss_kex, gss_deleg_creds, gss_host, banner_timeout, auth_timeout, channel_timeout, gss_trust_dns, passphrase, disabled_algorithms, transport_factory, auth_strategy)\u001b[0m\n\u001b[0;32m    483\u001b[0m     key_filenames \u001b[38;5;241m=\u001b[39m key_filename\n\u001b[1;32m--> 485\u001b[0m \u001b[38;5;28;43mself\u001b[39;49m\u001b[38;5;241;43m.\u001b[39;49m\u001b[43m_auth\u001b[49m\u001b[43m(\u001b[49m\n\u001b[0;32m    486\u001b[0m \u001b[43m    \u001b[49m\u001b[43musername\u001b[49m\u001b[43m,\u001b[49m\n\u001b[0;32m    487\u001b[0m \u001b[43m    \u001b[49m\u001b[43mpassword\u001b[49m\u001b[43m,\u001b[49m\n\u001b[0;32m    488\u001b[0m \u001b[43m    \u001b[49m\u001b[43mpkey\u001b[49m\u001b[43m,\u001b[49m\n\u001b[0;32m    489\u001b[0m \u001b[43m    \u001b[49m\u001b[43mkey_filenames\u001b[49m\u001b[43m,\u001b[49m\n\u001b[0;32m    490\u001b[0m \u001b[43m    \u001b[49m\u001b[43mallow_agent\u001b[49m\u001b[43m,\u001b[49m\n\u001b[0;32m    491\u001b[0m \u001b[43m    \u001b[49m\u001b[43mlook_for_keys\u001b[49m\u001b[43m,\u001b[49m\n\u001b[0;32m    492\u001b[0m \u001b[43m    \u001b[49m\u001b[43mgss_auth\u001b[49m\u001b[43m,\u001b[49m\n\u001b[0;32m    493\u001b[0m \u001b[43m    \u001b[49m\u001b[43mgss_kex\u001b[49m\u001b[43m,\u001b[49m\n\u001b[0;32m    494\u001b[0m \u001b[43m    \u001b[49m\u001b[43mgss_deleg_creds\u001b[49m\u001b[43m,\u001b[49m\n\u001b[0;32m    495\u001b[0m \u001b[43m    \u001b[49m\u001b[43mt\u001b[49m\u001b[38;5;241;43m.\u001b[39;49m\u001b[43mgss_host\u001b[49m\u001b[43m,\u001b[49m\n\u001b[0;32m    496\u001b[0m \u001b[43m    \u001b[49m\u001b[43mpassphrase\u001b[49m\u001b[43m,\u001b[49m\n\u001b[0;32m    497\u001b[0m \u001b[43m\u001b[49m\u001b[43m)\u001b[49m\n",
      "File \u001b[1;32m~\\.conda\\envs\\yhqchem\\lib\\site-packages\\paramiko\\client.py:819\u001b[0m, in \u001b[0;36mSSHClient._auth\u001b[1;34m(self, username, password, pkey, key_filenames, allow_agent, look_for_keys, gss_auth, gss_kex, gss_deleg_creds, gss_host, passphrase)\u001b[0m\n\u001b[0;32m    818\u001b[0m     \u001b[38;5;28;01mraise\u001b[39;00m saved_exception\n\u001b[1;32m--> 819\u001b[0m \u001b[38;5;28;01mraise\u001b[39;00m SSHException(\u001b[38;5;124m\"\u001b[39m\u001b[38;5;124mNo authentication methods available\u001b[39m\u001b[38;5;124m\"\u001b[39m)\n",
      "\u001b[1;31mSSHException\u001b[0m: No authentication methods available",
      "\nDuring handling of the above exception, another exception occurred:\n",
      "\u001b[1;31mAuthenticationException\u001b[0m                   Traceback (most recent call last)",
      "Cell \u001b[1;32mIn[3], line 2\u001b[0m\n\u001b[0;32m      1\u001b[0m \u001b[38;5;66;03m## OTP가 필요. password = nuri2024@@\u001b[39;00m\n\u001b[1;32m----> 2\u001b[0m \u001b[43mpm\u001b[49m\u001b[38;5;241;43m.\u001b[39;49m\u001b[43mconnect\u001b[49m\u001b[43m(\u001b[49m\u001b[43m)\u001b[49m\n",
      "File \u001b[1;32mD:\\bo\\workspace\\yh-qchem\\autoqchem\\pbs_manager.py:70\u001b[0m, in \u001b[0;36mpbs_manager.connect\u001b[1;34m(self)\u001b[0m\n\u001b[0;32m     68\u001b[0m     create_new_connection \u001b[38;5;241m=\u001b[39m \u001b[38;5;28;01mTrue\u001b[39;00m\n\u001b[0;32m     69\u001b[0m \u001b[38;5;28;01mif\u001b[39;00m create_new_connection:\n\u001b[1;32m---> 70\u001b[0m     \u001b[38;5;28mself\u001b[39m\u001b[38;5;241m.\u001b[39mconnection \u001b[38;5;241m=\u001b[39m \u001b[43mssh_connect_otp\u001b[49m\u001b[43m(\u001b[49m\u001b[38;5;28;43mself\u001b[39;49m\u001b[38;5;241;43m.\u001b[39;49m\u001b[43mhost\u001b[49m\u001b[43m,\u001b[49m\u001b[43m \u001b[49m\u001b[38;5;28;43mself\u001b[39;49m\u001b[38;5;241;43m.\u001b[39;49m\u001b[43muser\u001b[49m\u001b[43m)\u001b[49m\n\u001b[0;32m     71\u001b[0m     \u001b[38;5;28mself\u001b[39m\u001b[38;5;241m.\u001b[39mconnection\u001b[38;5;241m.\u001b[39mrun(\u001b[38;5;124mf\u001b[39m\u001b[38;5;124m\"\u001b[39m\u001b[38;5;124mmkdir -p \u001b[39m\u001b[38;5;132;01m{\u001b[39;00m\u001b[38;5;28mself\u001b[39m\u001b[38;5;241m.\u001b[39mremote_dir\u001b[38;5;132;01m}\u001b[39;00m\u001b[38;5;124m\"\u001b[39m)\n\u001b[0;32m     72\u001b[0m     logger\u001b[38;5;241m.\u001b[39minfo(\u001b[38;5;124mf\u001b[39m\u001b[38;5;124m\"\u001b[39m\u001b[38;5;124mConnected to \u001b[39m\u001b[38;5;132;01m{\u001b[39;00m\u001b[38;5;28mself\u001b[39m\u001b[38;5;241m.\u001b[39mhost\u001b[38;5;132;01m}\u001b[39;00m\u001b[38;5;124m as \u001b[39m\u001b[38;5;132;01m{\u001b[39;00m\u001b[38;5;28mself\u001b[39m\u001b[38;5;241m.\u001b[39muser\u001b[38;5;132;01m}\u001b[39;00m\u001b[38;5;124m.\u001b[39m\u001b[38;5;124m\"\u001b[39m)\n",
      "File \u001b[1;32mD:\\bo\\workspace\\yh-qchem\\autoqchem\\helper_functions.py:92\u001b[0m, in \u001b[0;36mssh_connect_otp\u001b[1;34m(host, user, port)\u001b[0m\n\u001b[0;32m     90\u001b[0m     client\u001b[38;5;241m.\u001b[39mconnect(host, port, username\u001b[38;5;241m=\u001b[39muser, pkey\u001b[38;5;241m=\u001b[39m\u001b[38;5;28;01mNone\u001b[39;00m)\n\u001b[0;32m     91\u001b[0m \u001b[38;5;28;01mexcept\u001b[39;00m paramiko\u001b[38;5;241m.\u001b[39mssh_exception\u001b[38;5;241m.\u001b[39mSSHException \u001b[38;5;28;01mas\u001b[39;00m e:\n\u001b[1;32m---> 92\u001b[0m     \u001b[43mclient\u001b[49m\u001b[38;5;241;43m.\u001b[39;49m\u001b[43mget_transport\u001b[49m\u001b[43m(\u001b[49m\u001b[43m)\u001b[49m\u001b[38;5;241;43m.\u001b[39;49m\u001b[43mauth_interactive\u001b[49m\u001b[43m(\u001b[49m\u001b[43muser\u001b[49m\u001b[43m,\u001b[49m\u001b[43m \u001b[49m\u001b[43minter_handler\u001b[49m\u001b[43m)\u001b[49m\n\u001b[0;32m     94\u001b[0m c \u001b[38;5;241m=\u001b[39m fabric\u001b[38;5;241m.\u001b[39mConnection(host)\n\u001b[0;32m     95\u001b[0m c\u001b[38;5;241m.\u001b[39mclient \u001b[38;5;241m=\u001b[39m client\n",
      "File \u001b[1;32m~\\.conda\\envs\\yhqchem\\lib\\site-packages\\paramiko\\transport.py:1762\u001b[0m, in \u001b[0;36mTransport.auth_interactive\u001b[1;34m(self, username, handler, submethods)\u001b[0m\n\u001b[0;32m   1758\u001b[0m \u001b[38;5;28mself\u001b[39m\u001b[38;5;241m.\u001b[39mauth_handler \u001b[38;5;241m=\u001b[39m AuthHandler(\u001b[38;5;28mself\u001b[39m)\n\u001b[0;32m   1759\u001b[0m \u001b[38;5;28mself\u001b[39m\u001b[38;5;241m.\u001b[39mauth_handler\u001b[38;5;241m.\u001b[39mauth_interactive(\n\u001b[0;32m   1760\u001b[0m     username, handler, my_event, submethods\n\u001b[0;32m   1761\u001b[0m )\n\u001b[1;32m-> 1762\u001b[0m \u001b[38;5;28;01mreturn\u001b[39;00m \u001b[38;5;28;43mself\u001b[39;49m\u001b[38;5;241;43m.\u001b[39;49m\u001b[43mauth_handler\u001b[49m\u001b[38;5;241;43m.\u001b[39;49m\u001b[43mwait_for_response\u001b[49m\u001b[43m(\u001b[49m\u001b[43mmy_event\u001b[49m\u001b[43m)\u001b[49m\n",
      "File \u001b[1;32m~\\.conda\\envs\\yhqchem\\lib\\site-packages\\paramiko\\auth_handler.py:263\u001b[0m, in \u001b[0;36mAuthHandler.wait_for_response\u001b[1;34m(self, event)\u001b[0m\n\u001b[0;32m    261\u001b[0m     \u001b[38;5;28;01mif\u001b[39;00m \u001b[38;5;28missubclass\u001b[39m(e\u001b[38;5;241m.\u001b[39m\u001b[38;5;18m__class__\u001b[39m, PartialAuthentication):\n\u001b[0;32m    262\u001b[0m         \u001b[38;5;28;01mreturn\u001b[39;00m e\u001b[38;5;241m.\u001b[39mallowed_types\n\u001b[1;32m--> 263\u001b[0m     \u001b[38;5;28;01mraise\u001b[39;00m e\n\u001b[0;32m    264\u001b[0m \u001b[38;5;28;01mreturn\u001b[39;00m []\n",
      "\u001b[1;31mAuthenticationException\u001b[0m: Authentication failed."
     ]
    }
   ],
   "source": [
    "pm.connect()\n",
    "## OTP가 필요. password = nuri2024@@"
   ]
  },
  {
   "cell_type": "code",
   "execution_count": 10,
   "id": "262d0d7e-588c-4277-a0cc-3512319acbfa",
   "metadata": {},
   "outputs": [],
   "source": [
    "### Set molecule information\n",
    "### 여러 개의 molecule을 , 로 연결\n",
    "\n",
    "my_smiles=[\n",
    "    \"c1ccc(F)cc1\",\n",
    "]"
   ]
  },
  {
   "cell_type": "code",
   "execution_count": 11,
   "id": "508d00a4-66df-4d04-980b-34a45eee8a97",
   "metadata": {
    "scrolled": true
   },
   "outputs": [],
   "source": [
    "mols = []\n",
    "for smile in my_smiles:\n",
    "    mols.append(molecule(smile, num_conf=10))"
   ]
  },
  {
   "cell_type": "markdown",
   "id": "e0c23799-3230-4b58-b2f8-cf7478b2de4a",
   "metadata": {},
   "source": [
    "# Gaussian Job setup\n",
    "### Gaussian Job 생성 조건"
   ]
  },
  {
   "cell_type": "code",
   "execution_count": 12,
   "id": "c87cccd1-d415-401b-8583-57199fd904f6",
   "metadata": {},
   "outputs": [
    {
     "name": "stderr",
     "output_type": "stream",
     "text": [
      "Molecule InChI=1S/C6H5F/c7-6-4-2-1-3-5-6/h1-5H already exists with the same Gaussian config with tags ['yh_test']. Not creating jobs.\n"
     ]
    }
   ],
   "source": [
    "### solvent list : https://gaussian.com/scrf/?tabid=7. 테이블에서 실제 실험 사용할 조건을 선택 기재\n",
    "\n",
    "for mol in mols:\n",
    "    pm.create_jobs_for_molecule(mol, light_basis_set='6-31G**', solvent='Ethanol', wall_time='06:00:00')"
   ]
  },
  {
   "cell_type": "code",
   "execution_count": 13,
   "id": "1f10e282-efd9-4479-9eb8-72893f6c0d4c",
   "metadata": {},
   "outputs": [
    {
     "data": {
      "text/html": [
       "<div>\n",
       "<style scoped>\n",
       "    .dataframe tbody tr th:only-of-type {\n",
       "        vertical-align: middle;\n",
       "    }\n",
       "\n",
       "    .dataframe tbody tr th {\n",
       "        vertical-align: top;\n",
       "    }\n",
       "\n",
       "    .dataframe thead th {\n",
       "        text-align: right;\n",
       "    }\n",
       "</style>\n",
       "<table border=\"1\" class=\"dataframe\">\n",
       "  <thead>\n",
       "    <tr style=\"text-align: right;\">\n",
       "      <th>status</th>\n",
       "      <th>created</th>\n",
       "    </tr>\n",
       "    <tr>\n",
       "      <th>can</th>\n",
       "      <th></th>\n",
       "    </tr>\n",
       "  </thead>\n",
       "  <tbody>\n",
       "    <tr>\n",
       "      <th>C(C1C(C(C(C(O1)O)O)O)O)O</th>\n",
       "      <td>10</td>\n",
       "    </tr>\n",
       "  </tbody>\n",
       "</table>\n",
       "</div>"
      ],
      "text/plain": [
       "status                    created\n",
       "can                              \n",
       "C(C1C(C(C(C(O1)O)O)O)O)O       10"
      ]
     },
     "execution_count": 13,
     "metadata": {},
     "output_type": "execute_result"
    }
   ],
   "source": [
    "pm.get_job_stats(split_by_can=True)"
   ]
  },
  {
   "cell_type": "markdown",
   "id": "57703ac1-c73e-468b-8780-acaa6c7587f9",
   "metadata": {},
   "source": [
    "## Job 실행\n",
    "job status가 create 인 job을 실행시키는 작업으로 nurion 서버에 queue가 걸리게 됩니다.\\\n",
    "실제 job을 실행시킬 때 실행하세요.\n",
    "\n",
    "Job 실행을 위해서는 job file이 넘어갈 수 있도록 pm.connect_sftp() 실행이 필요합니다"
   ]
  },
  {
   "cell_type": "code",
   "execution_count": null,
   "id": "4909e7eb-9aaf-4b75-b5dc-90e0b46043bd",
   "metadata": {},
   "outputs": [],
   "source": [
    "pm.connect_sftp()\n",
    "\n",
    "## OTP 연결 필요"
   ]
  },
  {
   "cell_type": "code",
   "execution_count": 9,
   "id": "bd45a6b1-1f87-4a37-8026-12d6b3c2c0c9",
   "metadata": {},
   "outputs": [],
   "source": [
    "### job을 nurion에 제출. 제출할 때만 실행시키세요. \n",
    "\n",
    "pm.submit_jobs()"
   ]
  },
  {
   "cell_type": "markdown",
   "id": "eb5b4f0b-8e4b-4232-9fec-40e336f928b2",
   "metadata": {},
   "source": [
    "# Job 상태 조회\n",
    "서버에 현재 실행 중이거나 대기 중인 작업을 조회하는 기능입니다. \\\n",
    "job 목록에서 \"S\"가 status를 의미하며 아래와 같이 상태를 표기합니다 \\\n",
    "Q : Queue 대기 중 \\\n",
    "R : Run 실행 중"
   ]
  },
  {
   "cell_type": "code",
   "execution_count": 17,
   "id": "5a5cf183-a0a4-4561-9bba-8d55d06cfef5",
   "metadata": {
    "editable": true,
    "slideshow": {
     "slide_type": ""
    },
    "tags": []
   },
   "outputs": [],
   "source": [
    "pm.retrieve_jobs()  "
   ]
  },
  {
   "cell_type": "code",
   "execution_count": 8,
   "id": "1d28a150-0314-49e1-b0d0-6902877be5d8",
   "metadata": {
    "editable": true,
    "slideshow": {
     "slide_type": ""
    },
    "tags": []
   },
   "outputs": [
    {
     "data": {
      "text/html": [
       "<div>\n",
       "<style scoped>\n",
       "    .dataframe tbody tr th:only-of-type {\n",
       "        vertical-align: middle;\n",
       "    }\n",
       "\n",
       "    .dataframe tbody tr th {\n",
       "        vertical-align: top;\n",
       "    }\n",
       "\n",
       "    .dataframe thead th {\n",
       "        text-align: right;\n",
       "    }\n",
       "</style>\n",
       "<table border=\"1\" class=\"dataframe\">\n",
       "  <thead>\n",
       "    <tr style=\"text-align: right;\">\n",
       "      <th>status</th>\n",
       "      <th>created</th>\n",
       "    </tr>\n",
       "    <tr>\n",
       "      <th>can</th>\n",
       "      <th></th>\n",
       "    </tr>\n",
       "  </thead>\n",
       "  <tbody>\n",
       "    <tr>\n",
       "      <th>C(C1C(C(C(C(O1)O)O)O)O)O</th>\n",
       "      <td>9</td>\n",
       "    </tr>\n",
       "  </tbody>\n",
       "</table>\n",
       "</div>"
      ],
      "text/plain": [
       "status                    created\n",
       "can                              \n",
       "C(C1C(C(C(C(O1)O)O)O)O)O        9"
      ]
     },
     "execution_count": 8,
     "metadata": {},
     "output_type": "execute_result"
    }
   ],
   "source": [
    "pm.get_job_stats(split_by_can=True)"
   ]
  },
  {
   "cell_type": "markdown",
   "id": "91b97f9c-1ecb-4153-8948-536b7bb6b34e",
   "metadata": {},
   "source": [
    "## 결과 DB insert\n",
    "위의 job이 모두 끝나면 계산 결과를 DB에 넣는 기능입니다. \\\n",
    "현재 노트북에 설치된 mongodb에 넣게 되며 tag를 지정하여 넣으면 추후 해당 tag set을 조회하는데 유용합니다."
   ]
  },
  {
   "cell_type": "code",
   "execution_count": 43,
   "id": "92867103-b9cb-4a02-853a-93709d9a1a60",
   "metadata": {},
   "outputs": [],
   "source": [
    "### JOB 이 끝난 것을 확인 후 TAG 명을 지정 후 upload. \n",
    "pm.upload_done_molecules_to_db(tags=[\"yh_test\"])"
   ]
  }
 ],
 "metadata": {
  "kernelspec": {
   "display_name": "yhqchem",
   "language": "python",
   "name": "yhqchem"
  },
  "language_info": {
   "codemirror_mode": {
    "name": "ipython",
    "version": 3
   },
   "file_extension": ".py",
   "mimetype": "text/x-python",
   "name": "python",
   "nbconvert_exporter": "python",
   "pygments_lexer": "ipython3",
   "version": "3.8.20"
  }
 },
 "nbformat": 4,
 "nbformat_minor": 5
}
