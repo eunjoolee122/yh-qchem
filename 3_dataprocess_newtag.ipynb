{
 "cells": [
  {
   "cell_type": "markdown",
   "id": "52a4bb04-360b-4305-9bdc-25c314e49887",
   "metadata": {
    "editable": true,
    "slideshow": {
     "slide_type": ""
    },
    "tags": []
   },
   "source": [
    "## TAG 변경 processing\n",
    "특정 분자의 tag를 따로 지정하는 방법입니다.\n",
    "\n",
    "기존의 tag는 유지한 채로 새로 지정할 NEW_TAG명을 지정하고 아래의 cell들을 순서대로 실행시키세요"
   ]
  },
  {
   "cell_type": "code",
   "execution_count": 3,
   "id": "171a4825-a6fa-476f-84bb-3b38735aa4ab",
   "metadata": {},
   "outputs": [
    {
     "data": {
      "text/html": [
       "<div>\n",
       "<style scoped>\n",
       "    .dataframe tbody tr th:only-of-type {\n",
       "        vertical-align: middle;\n",
       "    }\n",
       "\n",
       "    .dataframe tbody tr th {\n",
       "        vertical-align: top;\n",
       "    }\n",
       "\n",
       "    .dataframe thead th {\n",
       "        text-align: right;\n",
       "    }\n",
       "</style>\n",
       "<table border=\"1\" class=\"dataframe\">\n",
       "  <thead>\n",
       "    <tr style=\"text-align: right;\">\n",
       "      <th></th>\n",
       "      <th>_id</th>\n",
       "      <th>can</th>\n",
       "      <th>inchi</th>\n",
       "      <th>inchikey</th>\n",
       "      <th>elements</th>\n",
       "      <th>charges</th>\n",
       "      <th>connectivity_matrix</th>\n",
       "      <th>metadata</th>\n",
       "    </tr>\n",
       "  </thead>\n",
       "  <tbody>\n",
       "    <tr>\n",
       "      <th>0</th>\n",
       "      <td>6729a0319ec0b41dd7063bc6</td>\n",
       "      <td>C(C1C(C(C(C(O1)O)O)O)O)O</td>\n",
       "      <td>InChI=1S/C6H12O6/c7-1-2-3(8)4(9)5(10)6(11)12-2...</td>\n",
       "      <td>WQZGKKKJIJFFOK-QBFJYBIGSA-N</td>\n",
       "      <td>[C, C, C, C, C, C, O, O, O, O, O, O, H, H, H, ...</td>\n",
       "      <td>[0, 0, 0, 0, 0, 0, 0, 0, 0, 0, 0, 0, 0, 0, 0, ...</td>\n",
       "      <td>[0.0, 1.0, 0.0, 0.0, 0.0, 0.0, 0.0, 0.0, 0.0, ...</td>\n",
       "      <td>{'gaussian_config': {'theory': 'APFD', 'solven...</td>\n",
       "    </tr>\n",
       "  </tbody>\n",
       "</table>\n",
       "</div>"
      ],
      "text/plain": [
       "                        _id                       can  \\\n",
       "0  6729a0319ec0b41dd7063bc6  C(C1C(C(C(C(O1)O)O)O)O)O   \n",
       "\n",
       "                                               inchi  \\\n",
       "0  InChI=1S/C6H12O6/c7-1-2-3(8)4(9)5(10)6(11)12-2...   \n",
       "\n",
       "                      inchikey  \\\n",
       "0  WQZGKKKJIJFFOK-QBFJYBIGSA-N   \n",
       "\n",
       "                                            elements  \\\n",
       "0  [C, C, C, C, C, C, O, O, O, O, O, O, H, H, H, ...   \n",
       "\n",
       "                                             charges  \\\n",
       "0  [0, 0, 0, 0, 0, 0, 0, 0, 0, 0, 0, 0, 0, 0, 0, ...   \n",
       "\n",
       "                                 connectivity_matrix  \\\n",
       "0  [0.0, 1.0, 0.0, 0.0, 0.0, 0.0, 0.0, 0.0, 0.0, ...   \n",
       "\n",
       "                                            metadata  \n",
       "0  {'gaussian_config': {'theory': 'APFD', 'solven...  "
      ]
     },
     "execution_count": 3,
     "metadata": {},
     "output_type": "execute_result"
    }
   ],
   "source": [
    "### TAG를 별도로 저장할 물질의 smiles 정보와 신규 TAG 정보를 입력해주세요 \n",
    "from autoqchem.db_local_functions import *\n",
    "\n",
    "smiles = \"C(C1C(C(C(C(O1)O)O)O)O)O\"\n",
    "NEW_TAG = \"tset_tag\"\n",
    "\n",
    "db = db_connect()\n",
    "mols_coll = db[\"molecules\"]\n",
    "tags_coll = db[\"tags\"]\n",
    "\n",
    "mol_data = mols_coll.find({'can': smiles})\n",
    "mol_df = pd.DataFrame(mol_data)\n",
    "mol_df"
   ]
  },
  {
   "cell_type": "code",
   "execution_count": 4,
   "id": "861b0fbc-61d6-4b51-a531-a6dce07b2664",
   "metadata": {},
   "outputs": [
    {
     "data": {
      "text/plain": [
       "InsertOneResult(ObjectId('674d4d654210ad7930295c1a'), acknowledged=True)"
      ]
     },
     "execution_count": 4,
     "metadata": {},
     "output_type": "execute_result"
    }
   ],
   "source": [
    "mol_id = mol_df['_id'].values.tolist()[0]\n",
    "\n",
    "tags_coll.insert_one({'tag': NEW_TAG, 'molecule_id': mol_id})"
   ]
  },
  {
   "cell_type": "code",
   "execution_count": 5,
   "id": "e181e4e3-d7bb-4bc9-bd71-0d1144f18073",
   "metadata": {},
   "outputs": [],
   "source": [
    "tag_data = tags_coll.find({'tag': NEW_TAG})\n",
    "tag_df = pd.DataFrame(tag_data)"
   ]
  },
  {
   "cell_type": "code",
   "execution_count": 6,
   "id": "52b3058e-ec8b-4f05-83c8-a4464cc41286",
   "metadata": {},
   "outputs": [
    {
     "data": {
      "text/html": [
       "<div>\n",
       "<style scoped>\n",
       "    .dataframe tbody tr th:only-of-type {\n",
       "        vertical-align: middle;\n",
       "    }\n",
       "\n",
       "    .dataframe tbody tr th {\n",
       "        vertical-align: top;\n",
       "    }\n",
       "\n",
       "    .dataframe thead th {\n",
       "        text-align: right;\n",
       "    }\n",
       "</style>\n",
       "<table border=\"1\" class=\"dataframe\">\n",
       "  <thead>\n",
       "    <tr style=\"text-align: right;\">\n",
       "      <th></th>\n",
       "      <th>_id</th>\n",
       "      <th>tag</th>\n",
       "      <th>molecule_id</th>\n",
       "    </tr>\n",
       "  </thead>\n",
       "  <tbody>\n",
       "    <tr>\n",
       "      <th>0</th>\n",
       "      <td>674d4d654210ad7930295c1a</td>\n",
       "      <td>tset_tag</td>\n",
       "      <td>6729a0319ec0b41dd7063bc6</td>\n",
       "    </tr>\n",
       "  </tbody>\n",
       "</table>\n",
       "</div>"
      ],
      "text/plain": [
       "                        _id       tag               molecule_id\n",
       "0  674d4d654210ad7930295c1a  tset_tag  6729a0319ec0b41dd7063bc6"
      ]
     },
     "execution_count": 6,
     "metadata": {},
     "output_type": "execute_result"
    }
   ],
   "source": [
    "tag_df"
   ]
  },
  {
   "cell_type": "code",
   "execution_count": null,
   "id": "516aae23-eab2-451b-8fd9-7f568f7fa80f",
   "metadata": {},
   "outputs": [],
   "source": []
  }
 ],
 "metadata": {
  "kernelspec": {
   "display_name": "yhqchem",
   "language": "python",
   "name": "yhqchem"
  },
  "language_info": {
   "codemirror_mode": {
    "name": "ipython",
    "version": 3
   },
   "file_extension": ".py",
   "mimetype": "text/x-python",
   "name": "python",
   "nbconvert_exporter": "python",
   "pygments_lexer": "ipython3",
   "version": "3.8.20"
  },
  "vscode": {
   "interpreter": {
    "hash": "f6b50c482b94d49566f339c9bbaa80fe4f4c53d65f91d29ce8fa084769027490"
   }
  }
 },
 "nbformat": 4,
 "nbformat_minor": 5
}
